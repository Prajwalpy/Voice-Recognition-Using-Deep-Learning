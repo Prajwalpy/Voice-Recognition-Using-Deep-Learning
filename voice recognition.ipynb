{
 "cells": [
  {
   "cell_type": "code",
   "execution_count": 1,
   "id": "726c7324-69d8-4942-a0c6-e9c083377ab4",
   "metadata": {},
   "outputs": [],
   "source": [
    "import os\n",
    "import librosa\n",
    "import numpy as np\n",
    "import joblib\n",
    "from sklearn.svm import SVC\n",
    "from sklearn.model_selection import train_test_split\n",
    "from sklearn.preprocessing import StandardScaler\n",
    "from sklearn.metrics import accuracy_score, classification_report"
   ]
  },
  {
   "cell_type": "code",
   "execution_count": 2,
   "id": "b799a217",
   "metadata": {},
   "outputs": [],
   "source": [
    "def extract_features(file_path):\n",
    "    try:\n",
    "        y, sr = librosa.load(file_path, sr=16000)  # Load audio file\n",
    "        mfcc = librosa.feature.mfcc(y=y, sr=sr, n_mfcc=13)  # Extract MFCCs\n",
    "        pitch = librosa.yin(y, fmin=50, fmax=500).mean() \n",
    "        zcr = librosa.feature.zero_crossing_rate(y).mean() \n",
    "        return np.hstack((np.mean(mfcc, axis=1), pitch, zcr))  # Combine features\n",
    "    except Exception as e:\n",
    "        print(f\"Error processing {file_path}: {e}\")\n",
    "        return None"
   ]
  },
  {
   "cell_type": "code",
   "execution_count": null,
   "id": "5c6d9ca7",
   "metadata": {},
   "outputs": [
    {
     "name": "stdout",
     "output_type": "stream",
     "text": [
      "Loading dataset...\n",
      "Dataset loaded successfully!\n",
      "Total samples: 16148\n",
      "Feature shape: (16148, 15)\n"
     ]
    }
   ],
   "source": [
    "# Function to load dataset from \"male\" and \"female\" folders\n",
    "def load_dataset(directory):\n",
    "    X, y = [], []\n",
    "    \n",
    "    for label, gender in enumerate([\"male\", \"female\"]):  # 0: male, 1: female\n",
    "        class_dir = os.path.join(directory, gender)\n",
    "        if not os.path.isdir(class_dir):\n",
    "            print(f\"Warning: Directory {class_dir} not found\")\n",
    "            continue\n",
    "            \n",
    "        for file in os.listdir(class_dir):\n",
    "            file_path = os.path.join(class_dir, file)\n",
    "            if file_path.endswith(\".wav\"):  \n",
    "                features = extract_features(file_path)\n",
    "                if features is not None:\n",
    "                    X.append(features)\n",
    "                    y.append(label)  \n",
    "\n",
    "    return np.array(X), np.array(y)\n",
    "\n",
    "# Specify dataset path \n",
    "# Dataset can be downloaded from https://www.kaggle.com/datasets/murtadhanajim/gender-recognition-by-voiceoriginal\n",
    "dataset_path = \"add the path to your data set\"  # Ensure \"dataset/male\" and \"dataset/female\" exist\n",
    "\n",
    "# Load dataset\n",
    "print(\"Loading dataset...\")\n",
    "X, y = load_dataset(dataset_path)\n",
    "\n",
    "print(\"Dataset loaded successfully!\")\n",
    "print(f\"Total samples: {len(y)}\")\n",
    "print(f\"Feature shape: {X.shape}\")"
   ]
  },
  {
   "cell_type": "code",
   "execution_count": 4,
   "id": "0f9333b1-49f0-43e2-a36a-ef0c7b18ead7",
   "metadata": {},
   "outputs": [
    {
     "name": "stdout",
     "output_type": "stream",
     "text": [
      "Training model...\n",
      "\n",
      "Model Evaluation:\n",
      "Accuracy: 0.9786377708978328\n",
      "              precision    recall  f1-score   support\n",
      "\n",
      "        Male       0.99      0.98      0.98      2114\n",
      "      Female       0.97      0.97      0.97      1116\n",
      "\n",
      "    accuracy                           0.98      3230\n",
      "   macro avg       0.98      0.98      0.98      3230\n",
      "weighted avg       0.98      0.98      0.98      3230\n",
      "\n",
      "Error processing test_voice.wav: [Errno 2] No such file or directory: 'test_voice.wav'\n",
      "\n",
      "Predicted Gender: Error extracting features\n"
     ]
    },
    {
     "name": "stderr",
     "output_type": "stream",
     "text": [
      "/var/folders/wv/28609nn53pg0tsd91f32jxhc0000gs/T/ipykernel_18238/1280337822.py:3: UserWarning: PySoundFile failed. Trying audioread instead.\n",
      "  y, sr = librosa.load(file_path, sr=16000)  # Load audio file\n",
      "/Users/pmohan12/Anaconda/anaconda3/lib/python3.12/site-packages/librosa/core/audio.py:184: FutureWarning: librosa.core.audio.__audioread_load\n",
      "\tDeprecated as of librosa version 0.10.0.\n",
      "\tIt will be removed in librosa version 1.0.\n",
      "  y, sr_native = __audioread_load(path, offset, duration, dtype)\n"
     ]
    }
   ],
   "source": [
    "\n",
    "# Split data into training and testing sets\n",
    "X_train, X_test, y_train, y_test = train_test_split(X, y, test_size=0.2, random_state=42)\n",
    "\n",
    "# Standardize features\n",
    "scaler = StandardScaler()\n",
    "X_train = scaler.fit_transform(X_train)\n",
    "X_test = scaler.transform(X_test)\n",
    "\n",
    "# Train an SVM classifier\n",
    "print(\"Training model...\")\n",
    "model = SVC(kernel='linear', probability=True)\n",
    "model.fit(X_train, y_train)\n",
    "\n",
    "# Save model and scaler\n",
    "joblib.dump(model, \"gender_recognition_svm.pkl\")\n",
    "joblib.dump(scaler, \"scaler.pkl\")\n",
    "\n",
    "# Evaluate model\n",
    "y_pred = model.predict(X_test)\n",
    "print(\"\\nModel Evaluation:\")\n",
    "print(\"Accuracy:\", accuracy_score(y_test, y_pred))\n",
    "print(classification_report(y_test, y_pred, target_names=['Male', 'Female']))\n",
    "\n",
    "# Function to predict gender from a new voice sample\n",
    "def predict_gender(file_path, model_path=\"gender_recognition_svm.pkl\", scaler_path=\"scaler.pkl\"):\n",
    "    model = joblib.load(model_path)\n",
    "    scaler = joblib.load(scaler_path)\n",
    "    \n",
    "    features = extract_features(file_path)\n",
    "    if features is None:\n",
    "        return \"Error extracting features\"\n",
    "    \n",
    "    features = scaler.transform([features])  # Standardize features\n",
    "    prediction = model.predict(features)\n",
    "    return \"Male\" if prediction[0] == 0 else \"Female\"\n",
    "\n",
    "# Example usage\n",
    "test_audio = \"test_voice.wav\"  # Replace with an actual audio file path\n",
    "print(\"\\nPredicted Gender:\", predict_gender(test_audio))\n"
   ]
  }
 ],
 "metadata": {
  "kernelspec": {
   "display_name": "base",
   "language": "python",
   "name": "python3"
  },
  "language_info": {
   "codemirror_mode": {
    "name": "ipython",
    "version": 3
   },
   "file_extension": ".py",
   "mimetype": "text/x-python",
   "name": "python",
   "nbconvert_exporter": "python",
   "pygments_lexer": "ipython3",
   "version": "3.12.7"
  }
 },
 "nbformat": 4,
 "nbformat_minor": 5
}
